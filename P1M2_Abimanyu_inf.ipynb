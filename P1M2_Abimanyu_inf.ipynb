{
 "cells": [
  {
   "cell_type": "code",
   "execution_count": 1,
   "metadata": {},
   "outputs": [],
   "source": [
    "import pandas as pd\n",
    "import pickle"
   ]
  },
  {
   "cell_type": "code",
   "execution_count": 2,
   "metadata": {},
   "outputs": [],
   "source": [
    "# Load Model and Pipeline\n",
    "with open('model.pkl','rb')as file_1:\n",
    "    model = pickle.load(file_1)\n",
    "\n",
    "with open('pipeline_pkl','rb')as file_2:\n",
    "    pipeline = pickle.load(file_2)"
   ]
  },
  {
   "cell_type": "code",
   "execution_count": 4,
   "metadata": {},
   "outputs": [
    {
     "name": "stdout",
     "output_type": "stream",
     "text": [
      "Hasil Prediksi Harga Mobil\n",
      "[25382.26  85837.145 82094.165 42956.875 25901.59 ]\n"
     ]
    }
   ],
   "source": [
    "# Membuat sample inference\n",
    "\n",
    "df_inference = pd.DataFrame({\n",
    "    'Name': [\n",
    "        '2010 Toyota Rukus Build 2 AZE151R',\n",
    "        '2021 Mercedes-Benz V 250 D Avantgarde MWB 447',\n",
    "        '2021 Mercedes-Benz Valente 116 CDI MWB RWD 447',\n",
    "        '2010 Mercedes-Benz E250 CDI Avantgarde 207',\n",
    "        '2016 Holden Cruze CD JH MY16'\n",
    "    ],\n",
    "    'Kilometers': [263000, 19, 24, 120579, 72506],\n",
    "    'Type': ['Wagon', 'Wagon', 'Wagon', 'Cabriolet', 'Sportswagon'],\n",
    "    'Gearbox': ['Automatic', 'Automatic', 'Automatic', 'Automatic', 'Automatic'],\n",
    "    'Fuel': ['Unleaded Petrol', 'Diesel', 'Diesel', 'Diesel', 'Unleaded Petrol'],\n",
    "    'Status': ['Used', 'New In Stock', 'New In Stock', 'Used', 'Used'],\n",
    "    'CC': [2362, 2143, 2143, 2143, 1796],\n",
    "    'Color': ['Grey', 'Black', 'Black', 'Black', 'White'],\n",
    "    'Seating Capacity': [5, 7, 8, 4, 5]\n",
    "})\n",
    "\n",
    "# Processing on data inference\n",
    "df_inference_prep = pipeline.transform(df_inference)\n",
    "\n",
    "# Prediksi dengan model yang sudah di train\n",
    "y_pred_inference = model.predict(df_inference_prep)\n",
    "\n",
    "# Menampilkan hasil prediksi\n",
    "print('Hasil Prediksi Harga Mobil')\n",
    "print(y_pred_inference)"
   ]
  }
 ],
 "metadata": {
  "kernelspec": {
   "display_name": "Abimanyu_env",
   "language": "python",
   "name": "python3"
  },
  "language_info": {
   "codemirror_mode": {
    "name": "ipython",
    "version": 3
   },
   "file_extension": ".py",
   "mimetype": "text/x-python",
   "name": "python",
   "nbconvert_exporter": "python",
   "pygments_lexer": "ipython3",
   "version": "3.10.14"
  }
 },
 "nbformat": 4,
 "nbformat_minor": 2
}
